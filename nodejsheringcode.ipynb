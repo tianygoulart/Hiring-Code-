{
  "nbformat": 4,
  "nbformat_minor": 0,
  "metadata": {
    "colab": {
      "name": "nodejsheringcode.ipynb",
      "provenance": [],
      "authorship_tag": "ABX9TyP6mLjCnOqVR0rMlz5IWho0",
      "include_colab_link": true
    },
    "kernelspec": {
      "name": "python3",
      "display_name": "Python 3"
    },
    "language_info": {
      "name": "python"
    }
  },
  "cells": [
    {
      "cell_type": "markdown",
      "metadata": {
        "id": "view-in-github",
        "colab_type": "text"
      },
      "source": [
        "<a href=\"https://colab.research.google.com/github/tianygoulart/Hiring-Code-/blob/main/nodejsheringcode.ipynb\" target=\"_parent\"><img src=\"https://colab.research.google.com/assets/colab-badge.svg\" alt=\"Open In Colab\"/></a>"
      ]
    },
    {
      "cell_type": "code",
      "execution_count": null,
      "metadata": {
        "id": "emyH_HoDZiis"
      },
      "outputs": [],
      "source": [
        "// Incluindo uma biblioteca\n",
        "const queryString = require('query-string');\n",
        "const http = require('http');\n",
        "const url = require('url');\n",
        "const fs = require('fs');\n",
        "\n",
        "// definição de endereço / url\n",
        "\n",
        "const hostname = '127.0.0.1'; // localhost\n",
        "const port = 3000;\n",
        "\n",
        "// Implementação da regra de negocio \n",
        "const server = http.createServer((req, res) => {\n",
        "  var resposta;\n",
        "  const urlparse = url.parse(req.url, true);\n",
        "// Receber informações do usuario\n",
        "  const params = queryString.parse(urlparse.search);\n",
        "\n",
        "// Criar um usuario - Atualizar um usuario \n",
        "if (urlparse.pathnema == '/criar-atualisar-usuario'){\n",
        "   \n",
        "   // salvar as informações\n",
        "   fs.writeFile('users/' + params.id +'.txt', JSON.stringify(params), function(err){\n",
        "     if (err) throw err;\n",
        "     console.log('Saved!');\n",
        "\n",
        "     resposta = 'Usuario criado com sucesso';\n",
        "\n",
        "      res.statusCode = 200;\n",
        "      res.setHeader('Content-Type', 'text/plain');\n",
        "      res.end(resposta);\n",
        "   });\n",
        "\n",
        "   \n",
        "}\n",
        "// selecionar usuario \n",
        "else if(urlparse.pathname == '/selecionar-usuario'){\n",
        "  fs.readFile('users/' + params.id +'.txt', function(err,data){\n",
        "    resposta = data;\n",
        "\n",
        "    res.statusCode = 200;\n",
        "    res.setHeader('Content-Type', 'application/json');\n",
        "    res.end(resposta);\n",
        "  });\n",
        "}\n",
        "   \n",
        "\n",
        "// remover o usuario \n",
        "else if(urlparse.pathname == '/remover-usuario'){\n",
        "  fs.unlink('users/' + params.id +'.txt', function(err){  \n",
        "    console.log('file deleted!');\n",
        "\n",
        "    resposta = err ? \"Usuario nao encontrato.\" : \"usuario removido.\";\n",
        "\n",
        "    res.statusCode = 200;\n",
        "    res.setHeader('Content-Type', 'text/plain');\n",
        "    res.end(resposta);\n",
        "  });\n",
        "  \n",
        "}\n",
        "});\n",
        "// Execução\n",
        "server.listen(port, hostname, () => {\n",
        "  console.log(`Server running at http://${hostname}:${port}/`);\n",
        "});"
      ]
    }
  ]
}