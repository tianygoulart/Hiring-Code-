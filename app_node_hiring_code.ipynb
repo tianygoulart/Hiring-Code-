{
  "nbformat": 4,
  "nbformat_minor": 0,
  "metadata": {
    "colab": {
      "name": "app.node.hiring code.ipynb",
      "provenance": [],
      "authorship_tag": "ABX9TyOhMg7pC15yFw36QUoVWOMt",
      "include_colab_link": true
    },
    "kernelspec": {
      "name": "python3",
      "display_name": "Python 3"
    },
    "language_info": {
      "name": "python"
    }
  },
  "cells": [
    {
      "cell_type": "markdown",
      "metadata": {
        "id": "view-in-github",
        "colab_type": "text"
      },
      "source": [
        "<a href=\"https://colab.research.google.com/github/tianygoulart/Hiring-Code-/blob/main/app_node_hiring_code.ipynb\" target=\"_parent\"><img src=\"https://colab.research.google.com/assets/colab-badge.svg\" alt=\"Open In Colab\"/></a>"
      ]
    },
    {
      "cell_type": "code",
      "execution_count": null,
      "metadata": {
        "id": "4lCy8JXH4adS"
      },
      "outputs": [],
      "source": [
        "// Incluindo uma biblioteca\n",
        "\n",
        "const http = require('http');\n",
        "const url = require('url');\n",
        "const queryString = require('query-string');\n",
        "\n",
        "// definição de endereço / url\n",
        "\n",
        "const hostname = '127.0.0.1'; // localhost\n",
        "const port = 3000;\n",
        "\n",
        "// Implementação da regra de negocio \n",
        "const server = http.createServer((req, res) => {\n",
        "\n",
        "  // pegar a pergunta na url  \n",
        "  const params = queryString.parse(url.parse(req.url,true).search);\n",
        "\n",
        "  // verificar a pergunta e escolher uma resposta\n",
        "  let resposta;\n",
        "  if (params.pergunta == 'melhor-filme'){\n",
        "    resposta = 'star wars';    \n",
        "  }\n",
        "  else if (params.pergunta == 'melhor-tecnologia-backend'){\n",
        "    resposta = 'nodejs';      \n",
        "  }\n",
        "  else {\n",
        "    resposta = 'nao sei, desculpe :(';      \n",
        "  }\n",
        "\n",
        "  // Retonar a resposta escolhida \n",
        "\n",
        "  res.statusCode = 200;\n",
        "  res.setHeader('Content-Type', 'text/plain');\n",
        "  res.end(resposta);\n",
        "});\n",
        "\n",
        "// Execução\n",
        "server.listen(port, hostname, () => {\n",
        "  console.log(`Server running at http://${hostname}:${port}/`);\n",
        "});"
      ]
    }
  ]
}